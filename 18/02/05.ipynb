{
  "nbformat": 4,
  "nbformat_minor": 0,
  "metadata": {
    "colab": {
      "provenance": [],
      "authorship_tag": "ABX9TyMgK1UpYmL3I41DLfu4br/x",
      "include_colab_link": true
    },
    "kernelspec": {
      "name": "python3",
      "display_name": "Python 3"
    },
    "language_info": {
      "name": "python"
    }
  },
  "cells": [
    {
      "cell_type": "markdown",
      "metadata": {
        "id": "view-in-github",
        "colab_type": "text"
      },
      "source": [
        "<a href=\"https://colab.research.google.com/github/VamsiReddy-hub/LMS_ASSIGNMENTS/blob/main/18/02/05.ipynb\" target=\"_parent\"><img src=\"https://colab.research.google.com/assets/colab-badge.svg\" alt=\"Open In Colab\"/></a>"
      ]
    },
    {
      "cell_type": "code",
      "execution_count": 2,
      "metadata": {
        "colab": {
          "base_uri": "https://localhost:8080/"
        },
        "id": "r7WA3FK-xN-R",
        "outputId": "4a3df433-5e39-4a5c-bae8-65c122ca5f9c"
      },
      "outputs": [
        {
          "output_type": "stream",
          "name": "stdout",
          "text": [
            "Requirement already satisfied: requests in /usr/local/lib/python3.11/dist-packages (2.32.3)\n",
            "Requirement already satisfied: charset-normalizer<4,>=2 in /usr/local/lib/python3.11/dist-packages (from requests) (3.4.1)\n",
            "Requirement already satisfied: idna<4,>=2.5 in /usr/local/lib/python3.11/dist-packages (from requests) (3.10)\n",
            "Requirement already satisfied: urllib3<3,>=1.21.1 in /usr/local/lib/python3.11/dist-packages (from requests) (2.3.0)\n",
            "Requirement already satisfied: certifi>=2017.4.17 in /usr/local/lib/python3.11/dist-packages (from requests) (2025.1.31)\n",
            "Collecting bs4\n",
            "  Downloading bs4-0.0.2-py2.py3-none-any.whl.metadata (411 bytes)\n",
            "Requirement already satisfied: beautifulsoup4 in /usr/local/lib/python3.11/dist-packages (from bs4) (4.13.3)\n",
            "Requirement already satisfied: soupsieve>1.2 in /usr/local/lib/python3.11/dist-packages (from beautifulsoup4->bs4) (2.6)\n",
            "Requirement already satisfied: typing-extensions>=4.0.0 in /usr/local/lib/python3.11/dist-packages (from beautifulsoup4->bs4) (4.12.2)\n",
            "Downloading bs4-0.0.2-py2.py3-none-any.whl (1.2 kB)\n",
            "Installing collected packages: bs4\n",
            "Successfully installed bs4-0.0.2\n"
          ]
        }
      ],
      "source": [
        "!pip install requests\n",
        "!pip install bs4\n",
        "import requests\n",
        "from bs4 import BeautifulSoup\n",
        "url = \"http://quotes.toscrape.com/\"\n",
        "response = requests.get(url)\n",
        "if response.status_code == 200:\n",
        "    soup = BeautifulSoup(response.text, 'html.parser')\n",
        "    quotes = soup.find_all('div', class_='text')\n",
        "    for quote in quotes:\n",
        "        print(quote.text)"
      ]
    },
    {
      "cell_type": "code",
      "source": [
        "import requests\n",
        "from bs4 import BeautifulSoup\n",
        "search_url=\"https://www.amazon.in/s?k=iphone&crid=PQVCJSNISAH4&sprefix=iphone%2Caps%2C233&ref=nb_sb_noss_2s\"\n",
        "headers={\"User-Agent\":\"Mozilla/5.0 (Windows NT 10.0; Win64; x64) AppleWebKit/537.36 (KHTML, like Gecko) Chrome/114.0.0.0 Safari/537.36\"}\n",
        "response=requests.get(search_url,headers=headers)\n",
        "soup=BeautifulSoup(response.text,'html.parser')\n",
        "product=soup.select_one(\"span.a-size-medium\")\n",
        "price=soup.select_one(\"span.a-price-whole\")\n",
        "if product and price:\n",
        "  print(f\"Product:{product.text.strip()}\")\n",
        "  print(f\"Price:Rs.{price.text.strip()}\")\n",
        "else:\n",
        "  print(\"could not find product details\")"
      ],
      "metadata": {
        "colab": {
          "base_uri": "https://localhost:8080/"
        },
        "id": "A3KyapysyogW",
        "outputId": "5b48806a-6037-4fa5-8c19-7124dea43b22"
      },
      "execution_count": 4,
      "outputs": [
        {
          "output_type": "stream",
          "name": "stdout",
          "text": [
            "could not find product details\n"
          ]
        }
      ]
    },
    {
      "cell_type": "code",
      "source": [
        "import requests\n",
        "from bs4 import BeautifulSoup\n",
        "url=\"https://en.wikipedia.org/wiki/List_of_countries_and_dependencies_by_population\"\n",
        "response=requests.get(url,headers=headers)\n",
        "soup=BeautifulSoup(response.text,\"html.parser\")\n",
        "table=soup.find(\"table\",class_=\"wikitable\")\n",
        "for row in table.find_all(\"tr\")[1:6]:\n",
        "    columns=row.find_all(\"td\")\n",
        "    country=columns[1].text.strip()\n",
        "    population=columns[2].text.strip()\n",
        "    print(f\"{country}:{population}\")"
      ],
      "metadata": {
        "colab": {
          "base_uri": "https://localhost:8080/"
        },
        "id": "J06LSGch3PlT",
        "outputId": "4585d942-760b-4b6e-ee38-ab12e3c3db64"
      },
      "execution_count": 5,
      "outputs": [
        {
          "output_type": "stream",
          "name": "stdout",
          "text": [
            "World:8,119,000,000\n",
            "China:1,408,280,000\n",
            "1,402,737,000:17.2%\n",
            "United States:340,110,988\n",
            "Indonesia:282,477,584\n"
          ]
        }
      ]
    },
    {
      "cell_type": "code",
      "source": [
        "from IPython.display import display, HTML\n",
        "\n",
        "display(HTML(\"\"\"\n",
        "\n",
        "   <p style=\"font-family:verdana\">This is a sample table</p>\n",
        "\n",
        "  <table>\n",
        "\n",
        "  <tr>\n",
        "\n",
        "    <th>Company</th>\n",
        "\n",
        "    <th>Contact</th>\n",
        "\n",
        "    <th>Country</th>\n",
        "\n",
        "  </tr>\n",
        "\n",
        "  <tr>\n",
        "\n",
        "    <td>Alfreds Futterkiste</td>\n",
        "\n",
        "    <td>Maria Anders</td>\n",
        "\n",
        "    <td>Germany</td>\n",
        "\n",
        "  </tr>\n",
        "\n",
        "  <tr>\n",
        "\n",
        "    <td>Centro comercial Moctezuma</td>\n",
        "\n",
        "    <td>Francisco Chang</td>\n",
        "\n",
        "    <td>Mexico</td>\n",
        "\n",
        "  </tr>\n",
        "\n",
        "</table>\n",
        "\n",
        "\"\"\"))"
      ],
      "metadata": {
        "colab": {
          "base_uri": "https://localhost:8080/",
          "height": 109
        },
        "id": "q47JzIyo622E",
        "outputId": "773db3f4-7985-43a8-cfd5-f0e15b82db0a"
      },
      "execution_count": 6,
      "outputs": [
        {
          "output_type": "display_data",
          "data": {
            "text/plain": [
              "<IPython.core.display.HTML object>"
            ],
            "text/html": [
              "\n",
              "\n",
              "   <p style=\"font-family:verdana\">This is a sample table</p>\n",
              "\n",
              "  <table>\n",
              "\n",
              "  <tr>\n",
              "\n",
              "    <th>Company</th>\n",
              "\n",
              "    <th>Contact</th>\n",
              "\n",
              "    <th>Country</th>\n",
              "\n",
              "  </tr>\n",
              "\n",
              "  <tr>\n",
              "\n",
              "    <td>Alfreds Futterkiste</td>\n",
              "\n",
              "    <td>Maria Anders</td>\n",
              "\n",
              "    <td>Germany</td>\n",
              "\n",
              "  </tr>\n",
              "\n",
              "  <tr>\n",
              "\n",
              "    <td>Centro comercial Moctezuma</td>\n",
              "\n",
              "    <td>Francisco Chang</td>\n",
              "\n",
              "    <td>Mexico</td>\n",
              "\n",
              "  </tr>\n",
              "\n",
              "</table>\n",
              "\n"
            ]
          },
          "metadata": {}
        }
      ]
    },
    {
      "cell_type": "code",
      "source": [],
      "metadata": {
        "id": "8Tx0JJDp7c0e"
      },
      "execution_count": null,
      "outputs": []
    }
  ]
}