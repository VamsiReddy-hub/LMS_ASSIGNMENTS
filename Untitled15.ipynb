{
  "nbformat": 4,
  "nbformat_minor": 0,
  "metadata": {
    "colab": {
      "provenance": [],
      "authorship_tag": "ABX9TyPezMA3OTVODQYJ5IU45bBq",
      "include_colab_link": true
    },
    "kernelspec": {
      "name": "python3",
      "display_name": "Python 3"
    },
    "language_info": {
      "name": "python"
    }
  },
  "cells": [
    {
      "cell_type": "markdown",
      "metadata": {
        "id": "view-in-github",
        "colab_type": "text"
      },
      "source": [
        "<a href=\"https://colab.research.google.com/github/VamsiReddy-hub/LMS_ASSIGNMENTS/blob/main/Untitled15.ipynb\" target=\"_parent\"><img src=\"https://colab.research.google.com/assets/colab-badge.svg\" alt=\"Open In Colab\"/></a>"
      ]
    },
    {
      "cell_type": "code",
      "execution_count": 1,
      "metadata": {
        "colab": {
          "base_uri": "https://localhost:8080/"
        },
        "id": "wUYzVTNkhR7n",
        "outputId": "590e2b86-1a97-4a92-b5a8-6dfa04a121d5"
      },
      "outputs": [
        {
          "output_type": "stream",
          "name": "stdout",
          "text": [
            "Collecting PyPDF2\n",
            "  Downloading pypdf2-3.0.1-py3-none-any.whl.metadata (6.8 kB)\n",
            "Downloading pypdf2-3.0.1-py3-none-any.whl (232 kB)\n",
            "\u001b[?25l   \u001b[90m━━━━━━━━━━━━━━━━━━━━━━━━━━━━━━━━━━━━━━━━\u001b[0m \u001b[32m0.0/232.6 kB\u001b[0m \u001b[31m?\u001b[0m eta \u001b[36m-:--:--\u001b[0m\r\u001b[2K   \u001b[91m━━━━━━━━━━━━━━━━━━━━━━━━━━━━━━━━━━━━━━\u001b[0m\u001b[91m╸\u001b[0m\u001b[90m━\u001b[0m \u001b[32m225.3/232.6 kB\u001b[0m \u001b[31m9.6 MB/s\u001b[0m eta \u001b[36m0:00:01\u001b[0m\r\u001b[2K   \u001b[90m━━━━━━━━━━━━━━━━━━━━━━━━━━━━━━━━━━━━━━━━\u001b[0m \u001b[32m232.6/232.6 kB\u001b[0m \u001b[31m5.5 MB/s\u001b[0m eta \u001b[36m0:00:00\u001b[0m\n",
            "\u001b[?25hInstalling collected packages: PyPDF2\n",
            "Successfully installed PyPDF2-3.0.1\n"
          ]
        }
      ],
      "source": [
        "pip install PyPDF2"
      ]
    },
    {
      "cell_type": "code",
      "source": [
        "import google.generativeai as genai\n",
        "from google.colab import userdata\n",
        "GOOGLE_API_KEY= userdata.get('Gemin_key')\n",
        "genai.configure(api_key=GOOGLE_API_KEY)"
      ],
      "metadata": {
        "id": "KEqoI1slhWKL"
      },
      "execution_count": 2,
      "outputs": []
    },
    {
      "cell_type": "code",
      "source": [
        "import PyPDF2\n",
        "def extract_text_from_pdf(pdf_path):\n",
        "  text=\"\"\n",
        "  with open(pdf_path,'rb') as file:\n",
        "      reader=PyPDF2.PdfReader(file)\n",
        "      for page in reader.pages:\n",
        "        text += page.extract_text() + \"\\n\"\n",
        "  return text"
      ],
      "metadata": {
        "id": "0mjfGR8HhrQe"
      },
      "execution_count": 3,
      "outputs": []
    },
    {
      "cell_type": "code",
      "source": [
        "def extract_health_insights(text):\n",
        "    \"\"\"Asks Gemini AI to extract key medical insights from the report.\"\"\"\n",
        "    model = genai.GenerativeModel(\"gemini-1.5-flash\")\n",
        "    prompt = f\"Extract key insights from the following health report:\\n\\n{text}\"\n",
        "    response = model.generate_content(prompt)\n",
        "    return response.text\n",
        "pdf_file = \"health_report.pdf\"\n",
        "extracted_text = extract_text_from_pdf(pdf_file)\n",
        "insights = extract_health_insights(extracted_text)\n",
        "print(\"Key Insights:\\n\", insights)"
      ],
      "metadata": {
        "colab": {
          "base_uri": "https://localhost:8080/",
          "height": 488
        },
        "id": "S2lC5o1jj65_",
        "outputId": "0be03134-48ca-429e-bbb5-6db7babc44cb"
      },
      "execution_count": 5,
      "outputs": [
        {
          "output_type": "stream",
          "name": "stdout",
          "text": [
            "Key Insights:\n",
            " Key Insights from Mr. Kishan Goud's Health Report (MR2100003157):\n",
            "\n",
            "**Infectious Diseases:**\n",
            "\n",
            "* **Negative for Dengue:**  NS1 antigen, IgG, and IgM tests were all negative.\n",
            "* **Negative for Malaria:** Rapid Malaria tests for Plasmodium vivax (P.V) and Plasmodium falciparum (P.F) were negative.\n",
            "* **Widal Test:**  Elevated titers for *Salmonella Typhi* \"O\" (1:160) and \"H\" (1:80) suggest a possible past or recent *Salmonella Typhi* infection.  *Salmonella Paratyphi* \"AH\" and \"BH\" titers were within the normal range.  Further investigation may be needed to confirm active infection.\n",
            "\n",
            "**Hematology:**\n",
            "\n",
            "* **Complete Blood Count (CBC):**  All values (Hemoglobin, RBC, WBC, Platelets, PCV, Differential Count) are within normal limits except for slightly elevated ESR (26 mm/hr in the first hour, 52 mm/hr in the second hour).  Elevated ESR can indicate inflammation but is not specific.\n",
            "* **HbA1c:** 5.4%, indicating good blood glucose control (within normal non-diabetic range).\n",
            "\n",
            "**Biochemistry:**\n",
            "\n",
            "* **Liver Function Test (LFT):**  All liver enzymes (Alkaline Phosphatase, SGOT, SGPT, Bilirubin) and other markers (Total Protein, Albumin, Globulin, A/G ratio) are within normal ranges.\n",
            "* **Serum Electrolytes:** Sodium (122 mmol/l) is slightly low (reference range 135-146 mmol/l), while Potassium and Chloride are within normal ranges.  Low sodium could indicate several issues and requires further evaluation.\n",
            "* **Creatinine:** Within normal range (0.8 mg/dl).\n",
            "* **Random Blood Glucose:** Within normal range (although the exact value isn't explicitly stated, it's within the 60-170 mg/dl range).\n",
            "\n",
            "\n",
            "**Overall:**\n",
            "\n",
            "The report shows mostly normal results except for elevated ESR and slightly low sodium.  The Widal test results warrant further investigation to determine if a past or current *Salmonella Typhi* infection is present.  The low sodium level needs to be addressed and the cause should be investigated by the physician.  The patient's doctor should interpret these results in the context of the patient's clinical presentation and medical history to determine the appropriate next steps.\n",
            "\n"
          ]
        }
      ]
    },
    {
      "cell_type": "code",
      "source": [
        "def summarize_health_report(text):\n",
        "    \"\"\"Summarizes the health report using Gemini AI.\"\"\"\n",
        "    model = genai.GenerativeModel(\"gemini-1.5-flash\")\n",
        "    prompt = f\"Summarize the following health report:\\n\\n{text}\"\n",
        "    response = model.generate_content(prompt)\n",
        "    return response.text\n",
        "\n",
        "summary = summarize_health_report(extracted_text)\n",
        "print(\"Summary:\\n\", summary)"
      ],
      "metadata": {
        "colab": {
          "base_uri": "https://localhost:8080/",
          "height": 471
        },
        "id": "djA0_NNwoYJK",
        "outputId": "05b82726-b8a6-4c09-d589-b6d74dcb1c1d"
      },
      "execution_count": 6,
      "outputs": [
        {
          "output_type": "stream",
          "name": "stdout",
          "text": [
            "Summary:\n",
            " This is a health report for Mr. Kishan Goud (MR2100003157), a 56-year-old male, dated February 1st, 2021.  The report includes the following results:\n",
            "\n",
            "**Infectious Disease Tests:**\n",
            "\n",
            "* **Widal Test:** Elevated titers for *Salmonella Typhi* \"O\" (1:160) and \"H\" (1:80), suggesting possible past or present typhoid fever.  *Salmonella Paratyphi* \"A\" and \"B\" titers were within the normal range.\n",
            "* **Dengue Serology:** Negative for Dengue NS1 antigen, IgG, and IgM antibodies.\n",
            "* **Rapid Malaria Test:** Negative for both *Plasmodium falciparum* and *Plasmodium vivax*.\n",
            "\n",
            "**Hematology Tests:**\n",
            "\n",
            "* **Complete Blood Picture (CBC):**  Hemoglobin, RBC, WBC, and platelet counts were within normal ranges.  Differential count showed normal neutrophil, lymphocyte, eosinophil, monocyte, and basophil percentages. Peripheral blood smear showed normal morphology.\n",
            "* **Erythrocyte Sedimentation Rate (ESR):** Elevated (26 mm/hr in the first hour, 52 mm/hr in the second hour), suggesting inflammation.\n",
            "\n",
            "**Biochemistry Tests:**\n",
            "\n",
            "* **Liver Function Test (LFT):**  All liver function markers (bilirubin – total, direct, indirect; alkaline phosphatase; SGOT; SGPT; total protein; albumin; globulin; A/G ratio) were within normal ranges.\n",
            "* **Serum Electrolytes:** Sodium (122 mmol/l) was slightly low, potassium and chloride were within normal range.\n",
            "* **Random Blood Glucose:** Within the normal range.\n",
            "* **HbA1c:**  5.4%, indicating good blood glucose control (within the normal non-diabetic range).\n",
            "* **Serum Creatinine:** Within the normal range.\n",
            "\n",
            "\n",
            "**Overall:**  The report shows some signs of inflammation (elevated ESR) and possibly past or present typhoid infection (elevated Widal test titers for *Salmonella Typhi*).  However, other tested infections (Dengue and Malaria) were ruled out, and most other blood work was within normal limits.  Further investigation might be needed based on clinical presentation and the doctor's assessment.\n",
            "\n"
          ]
        }
      ]
    },
    {
      "cell_type": "code",
      "source": [
        "def detect_abnormalities(text):\n",
        "    \"\"\"Analyzes lab test results and flags abnormal values.\"\"\"\n",
        "    model = genai.GenerativeModel(\"gemini-1.5-flash\")\n",
        "    prompt = f\"Analyze the lab test results in the following health report and flag any abnormal values:\\n\\n{text}\"\n",
        "    response = model.generate_content(prompt)\n",
        "    return response.text\n",
        "\n",
        "abnormalities = detect_abnormalities(extracted_text)\n",
        "print(\"Potential Abnormalities:\\n\", abnormalities)"
      ],
      "metadata": {
        "colab": {
          "base_uri": "https://localhost:8080/",
          "height": 367
        },
        "id": "0h7b_dAjmdmX",
        "outputId": "0a55e7c7-c3d1-4965-8a48-e209d30908db"
      },
      "execution_count": 7,
      "outputs": [
        {
          "output_type": "stream",
          "name": "stdout",
          "text": [
            "Potential Abnormalities:\n",
            " Based on the provided lab results, the following values are outside the given biological reference ranges, indicating potential abnormalities:\n",
            "\n",
            "* **Widal Test:**  S. Typhi \"O\" (1:160) and S. Typhi \"H\" (1:80) are significantly higher than the reference range of 1:20. This suggests a possible *Salmonella Typhi* infection (typhoid fever).  Further investigation and clinical correlation are necessary.\n",
            "\n",
            "* **ESR (Erythrocyte Sedimentation Rate):**  Both the 1st hour (26 mm/hr) and 2nd hour (52 mm/hr) values are significantly elevated above the reference range of 0-8 mm/hr in the first hour.  This indicates inflammation or infection somewhere in the body.\n",
            "\n",
            "* **Serum Sodium:** 122 mmol/l is below the reference range of 135-146 mmol/l. This indicates hyponatremia (low sodium levels) which can have various causes.\n",
            "\n",
            "* **Serum Chloride:** 97 mmol/l is below the reference range of 98-107 mmol/l.  This indicates hypochloremia (low chloride levels), often associated with other electrolyte imbalances.\n",
            "\n",
            "\n",
            "**Values slightly outside or at the edge of the reference range (require further evaluation in context of clinical presentation):**\n",
            "\n",
            "* **Lymphocytes:** 31% is at the upper limit of the reference range (20-40%). While not necessarily abnormal, it warrants consideration in conjunction with other findings, especially the elevated ESR and Widal test results.\n",
            "\n",
            "\n",
            "**Important Note:** This analysis is solely based on the lab results provided.  It's crucial to remember that lab results should *always* be interpreted by a qualified healthcare professional in the context of the patient's complete medical history, physical examination, and other clinical findings.  The above observations do not constitute a diagnosis and should prompt further medical investigation, not self-treatment.\n",
            "\n"
          ]
        }
      ]
    },
    {
      "cell_type": "code",
      "source": [
        "def explain_medical_terms(text):\n",
        "    \"\"\"Asks Gemini AI to simplify medical terms for patient understanding.\"\"\"\n",
        "    model = genai.GenerativeModel(\"gemini-1.5-flash\")\n",
        "    prompt = f\"Translate the medical terms in the following health report into simple language:\\n\\n{text}\"\n",
        "    response = model.generate_content(prompt)\n",
        "    return response.text\n",
        "\n",
        "explanation = explain_medical_terms(extracted_text)\n",
        "print(\"Simplified Explanation:\\n\", explanation)"
      ],
      "metadata": {
        "colab": {
          "base_uri": "https://localhost:8080/",
          "height": 1000
        },
        "id": "pFH0Q9fNorDh",
        "outputId": "e4454987-d52a-46ec-c091-81bb375c0fab"
      },
      "execution_count": 8,
      "outputs": [
        {
          "output_type": "stream",
          "name": "stdout",
          "text": [
            "Simplified Explanation:\n",
            " This report shows the results of several blood tests performed on Mr. Kishan Goud on February 1st, 2021.  Here's a simplified explanation:\n",
            "\n",
            "**1. Widal Test (for Typhoid):** This test checks for antibodies to typhoid bacteria.  The results show:\n",
            "\n",
            "* **S. Typhi \"O\" 1:160:**  A moderately elevated level suggesting possible past or recent exposure to typhoid.  (A higher number indicates a stronger possible presence of infection).\n",
            "* **S. Typhi \"H\" 1:80:** A moderately elevated level.\n",
            "* **S. Paratyphi \"AH\" 1:20:** Within the normal range.\n",
            "* **S. Paratyphi \"BH\" 1:20:** Within the normal range.\n",
            "\n",
            "**Overall interpretation of Widal:**  The results suggest possible past or recent infection with *Salmonella Typhi* (the bacteria that causes typhoid).  Further investigation may be needed depending on other clinical symptoms.\n",
            "\n",
            "**2. Dengue Serology:** This test checks for dengue fever.  All three parts (NS1 antigen, IgG, and IgM) were negative, indicating no current or recent dengue infection.\n",
            "\n",
            "**3. Erythrocyte Sedimentation Rate (ESR):** This test measures how quickly red blood cells settle at the bottom of a test tube.  An elevated ESR (26 mm/hr in the first hour, 52 mm/hr in the second)  suggests inflammation in the body. The cause of the inflammation needs further investigation.\n",
            "\n",
            "**4. Rapid Malaria Test:** This test for malaria parasites was negative for both *Plasmodium vivax* (P.V) and *Plasmodium falciparum* (P.F), indicating no malaria infection.\n",
            "\n",
            "**5. Complete Blood Picture (CBC):** This is a comprehensive blood test:\n",
            "\n",
            "* **Hemoglobin (Hb):** 13.6 gms% (Normal) - Measures the oxygen-carrying capacity of red blood cells.\n",
            "* **Red Blood Cells (RBC):** 4.3 mill/cumm (Slightly low, but within the typical range of variation)\n",
            "* **White Blood Cells (WBC):** 7,200 cells/cumm (Normal) – These fight infection.\n",
            "* **Platelets:** 2.0 lakhs/cumm (Normal) – Important for blood clotting.\n",
            "* **Packed Cell Volume (PCV):** 40.5 % (Normal) - Percentage of red blood cells in the blood.\n",
            "* **Differential Count:**  The percentages of different types of white blood cells were all within normal ranges.\n",
            "* **Peripheral Blood Smear:** Red blood cells and white blood cells appeared normal. Platelets were adequate.\n",
            "\n",
            "**6. HbA1c:** This test measures average blood sugar levels over the past 2-3 months. The result (5.4%) is within the normal range for someone who does not have diabetes.\n",
            "\n",
            "**7. Serum Creatinine:** This test measures kidney function. The result (0.8 mg/dl) is within the normal range.\n",
            "\n",
            "**8. Random Blood Glucose:**  This measures blood sugar at one point in time. The result is not provided in the data, but the reference range is 60-170 mg/dl.\n",
            "\n",
            "**9. Liver Function Test (LFT):**  These tests assess liver health:\n",
            "\n",
            "* **Total Bilirubin:** 0.6 mg/dl (Normal) – A breakdown product of red blood cells.\n",
            "* **Direct Bilirubin:** 0.2 mg/dl (Normal)\n",
            "* **Indirect Bilirubin:** 0.4 mg/dl (Normal)\n",
            "* **Alkaline Phosphatase:** 71 IU/L (Normal) – An enzyme found in the liver and bones.\n",
            "* **SGOT (AST):** 24 u/L (Normal) – Liver enzymes.\n",
            "* **SGPT (ALT):** 20 u/L (Normal) – Liver enzymes.\n",
            "* **Total Protein:** 7.3 gms/dl (Normal)\n",
            "* **Albumin:** 4.0 gms/dl (Normal) – A protein made by the liver.\n",
            "* **Globulin:** 3.3 gms/dl (Normal) – Another type of protein in the blood.\n",
            "* **A/G Ratio:** 1.2 (Normal) – The ratio of albumin to globulin.\n",
            "\n",
            "**10. Serum Electrolytes:** These tests measure the levels of important minerals in the blood:\n",
            "\n",
            "* **Sodium:** 122 mmol/l (Slightly low)\n",
            "* **Potassium:** 3.5 mmol/l (Lower limit of normal)\n",
            "* **Chloride:** 97 mmol/l (Slightly low)\n",
            "\n",
            "\n",
            "**Important Note:** This is a simplified interpretation.  The results should be discussed with Mr. Kishan Goud's doctor, Dr. Krishna Prasad, to determine their significance in the context of his overall health and symptoms.  Some slightly low values, especially in the electrolytes, warrant further investigation and monitoring.\n",
            "\n"
          ]
        }
      ]
    },
    {
      "cell_type": "code",
      "source": [
        "def ask_gemini_about_report(text, question):\n",
        "    \"\"\"Allows users to ask questions about their health report.\"\"\"\n",
        "    model = genai.GenerativeModel(\"gemini-1.5-flash\")\n",
        "    prompt = f\"The following is a health report:\\n\\n{text}\\n\\nAnswer the following question based on the report:\\n{question}\"\n",
        "    response = model.generate_content(prompt)\n",
        "    return response.text\n",
        "\n",
        "question = \"What is the patient's diagnosis?\"\n",
        "answer = ask_gemini_about_report(extracted_text, question)\n",
        "print(\"Answer:\\n\", answer)"
      ],
      "metadata": {
        "colab": {
          "base_uri": "https://localhost:8080/",
          "height": 89
        },
        "id": "LCtJn58msk3o",
        "outputId": "f02eb2bc-d0e1-4003-d43f-b580f2e181b4"
      },
      "execution_count": 9,
      "outputs": [
        {
          "output_type": "stream",
          "name": "stdout",
          "text": [
            "Answer:\n",
            " The provided lab report does not offer a diagnosis.  It only presents the results of various tests.  Elevated ESR (erythrocyte sedimentation rate) might suggest inflammation, but this requires further investigation and clinical correlation by the doctor to determine the underlying cause.  The slightly elevated S. Typhi \"O\" titer (1:160) warrants further evaluation to determine whether it represents a current or past infection.  The other test results are within normal limits or negative.  A diagnosis can only be made by Dr. Krishna Prasad considering these results along with the patient's symptoms and medical history.\n",
            "\n"
          ]
        }
      ]
    },
    {
      "cell_type": "code",
      "source": [],
      "metadata": {
        "id": "2k7OeergsqOJ"
      },
      "execution_count": null,
      "outputs": []
    }
  ]
}