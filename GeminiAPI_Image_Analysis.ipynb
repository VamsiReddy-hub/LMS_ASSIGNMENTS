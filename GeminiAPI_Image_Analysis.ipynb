{
  "nbformat": 4,
  "nbformat_minor": 0,
  "metadata": {
    "colab": {
      "provenance": [],
      "authorship_tag": "ABX9TyPZyMOqyzJV/gEB9q7Ago0e",
      "include_colab_link": true
    },
    "kernelspec": {
      "name": "python3",
      "display_name": "Python 3"
    },
    "language_info": {
      "name": "python"
    }
  },
  "cells": [
    {
      "cell_type": "markdown",
      "metadata": {
        "id": "view-in-github",
        "colab_type": "text"
      },
      "source": [
        "<a href=\"https://colab.research.google.com/github/VamsiReddy-hub/LMS_ASSIGNMENTS/blob/main/GeminiAPI_Image_Analysis.ipynb\" target=\"_parent\"><img src=\"https://colab.research.google.com/assets/colab-badge.svg\" alt=\"Open In Colab\"/></a>"
      ]
    },
    {
      "cell_type": "code",
      "execution_count": 2,
      "metadata": {
        "id": "t56S6dbL_eZV"
      },
      "outputs": [],
      "source": [
        "import google.generativeai as genai\n",
        "from google.colab import userdata\n",
        "GOOGLE_API_KEY=userdata.get('Gemin_key')\n",
        "genai.configure(api_key=GOOGLE_API_KEY)"
      ]
    },
    {
      "cell_type": "code",
      "source": [
        "import pathlib\n",
        "import textwrap\n",
        "from IPython.display import display, Markdown\n",
        "def to_markdown(text):\n",
        "  text = text.replace('•', '  *')\n",
        "  return Markdown(textwrap.indent(text, '> ', predicate=lambda _: True))"
      ],
      "metadata": {
        "id": "s5dwLFKR_pjk"
      },
      "execution_count": 3,
      "outputs": []
    },
    {
      "cell_type": "code",
      "source": [
        "import PIL.Image\n",
        "img = PIL.Image.open('/content/WhatsApp Image 2025-03-11 at 12.23.15_2d5164dd.jpg')\n",
        "img\n",
        "model = genai.GenerativeModel('gemini-1.5-flash')\n",
        "response = model.generate_content([\"Write a short, engaging blog post based on this picture.  It should include a description of the meal in the photo and talk about my journey meal prepping.\", img],\n",
        "stream=True)\n",
        "response.resolve()"
      ],
      "metadata": {
        "id": "nCoYscV2_38j"
      },
      "execution_count": 6,
      "outputs": []
    },
    {
      "cell_type": "code",
      "source": [
        "to_markdown(response.text)"
      ],
      "metadata": {
        "colab": {
          "base_uri": "https://localhost:8080/",
          "height": 330
        },
        "id": "q6XPlhSjAYo0",
        "outputId": "5da39451-fb01-4043-dc31-c4eed27d8b4e"
      },
      "execution_count": 7,
      "outputs": [
        {
          "output_type": "execute_result",
          "data": {
            "text/plain": [
              "<IPython.core.display.Markdown object>"
            ],
            "text/markdown": "> ## My Meal Prep Journey: From Chaos to Colorful Containers!\n> \n> Let's be honest, weekday lunches used to be a whirlwind of questionable takeout choices and frantic sandwich assembly.  But then I discovered the magic of meal prepping, and my life (and waistline) have never been the same!\n> \n> Look at these beauties! These are two of my latest creations – perfectly portioned containers brimming with deliciousness.  Each one is packed with fluffy white rice, tender chunks of teriyaki chicken, vibrant orange and red bell peppers, and a generous helping of broccoli.  It's a balanced and flavorful meal that keeps me energized throughout the workday.  No more midday hunger pangs!\n> \n> My meal prep journey wasn't always this smooth.  It started with ambitious Pinterest boards and overly-complicated recipes that left me feeling overwhelmed and defeated.  I’ve learned a few key things along the way:\n> \n> * **Keep it simple:**  Don't try to recreate Michelin-star meals for your lunchbox.  Choose recipes with a few core ingredients that you enjoy.\n> * **Embrace repetition:**  Once I found a few winning combinations, I embraced making them repeatedly – it saves so much time!\n> * **Prep smart:**  Cook extra protein and veggies on the weekend, then assemble your containers on Sunday evening for easy grab-and-go lunches.\n> \n> Now, instead of dreading lunchtime, I look forward to it! Meal prepping has saved me money, improved my diet, and given me more time to focus on other things.  If you’re thinking about giving it a try, don’t hesitate!  Start small, be patient with yourself, and you’ll be enjoying delicious and healthy lunches in no time.  Trust me, the colorful containers are a bonus!\n"
          },
          "metadata": {},
          "execution_count": 7
        }
      ]
    },
    {
      "cell_type": "code",
      "source": [
        "from PIL import Image\n",
        "# Open an image\n",
        "image_path = \"/content/WhatsApp Image 2025-03-11 at 12.50.22_a6751b72.jpg\"\n",
        "image = Image.open(image_path)\n",
        "# Generate a description of the image\n",
        "response = model.generate_content([\"Describe image in detail.\", image])\n",
        "print(response.text)"
      ],
      "metadata": {
        "colab": {
          "base_uri": "https://localhost:8080/",
          "height": 263
        },
        "id": "a5itlvwlAwuE",
        "outputId": "a111de75-9ad7-4334-9343-bf5a4c63db9c"
      },
      "execution_count": 10,
      "outputs": [
        {
          "output_type": "stream",
          "name": "stdout",
          "text": [
            "Here's a description of the image:\n",
            "\n",
            "Close-up view of a woman with medium-length, curly brown hair. \n",
            "\n",
            "\n",
            "She's wearing a teal or turquoise three-quarter sleeve top with a subtle gold print. The pattern appears to be small, repeating floral or paisley-like designs. The top has a simple, slightly open neckline.\n",
            "\n",
            "\n",
            "The woman is pointing with her index finger to the viewer's left, and her other arm is crossed over her body, suggesting she's making a suggestion or directing attention. She has a warm and approachable expression, with a slight smile. Her skin tone is medium, and she appears to have minimal makeup. \n",
            "\n",
            "\n",
            "The background is a plain, bright white, which keeps the focus entirely on the woman. The overall impression is a friendly, casual portrait.\n",
            "\n"
          ]
        }
      ]
    },
    {
      "cell_type": "code",
      "source": [],
      "metadata": {
        "id": "L3ovgSDaFfIM"
      },
      "execution_count": null,
      "outputs": []
    }
  ]
}